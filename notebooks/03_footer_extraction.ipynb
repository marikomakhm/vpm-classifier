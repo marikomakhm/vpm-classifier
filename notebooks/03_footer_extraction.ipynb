{
 "cells": [
  {
   "cell_type": "code",
   "execution_count": 1,
   "metadata": {},
   "outputs": [],
   "source": [
    "import pandas as pd\n",
    "import seaborn as sns\n",
    "import matplotlib.pyplot as plt\n",
    "sns.set_palette(sns.color_palette(\"pastel\"))\n",
    "\n",
    "import re\n",
    "\n",
    "from helpers import get_footer_features"
   ]
  },
  {
   "cell_type": "code",
   "execution_count": 2,
   "metadata": {},
   "outputs": [],
   "source": [
    "df = pd.read_csv('sample_data.csv')"
   ]
  },
  {
   "cell_type": "markdown",
   "metadata": {},
   "source": [
    "### Detecting footers\n",
    "\n",
    "We suppose that footers contain either \"copyright\" or \"(c)\" in them, as observed in many samples in the project data set. We want to calculate the number of characters we need to consider in order to be able to extract the majority of footers in the HTML."
   ]
  },
  {
   "cell_type": "code",
   "execution_count": 3,
   "metadata": {},
   "outputs": [],
   "source": [
    "lengths = range(500, 3001, 250)\n",
    "n_footers_copyright = []\n",
    "n_footers_c = []\n",
    "\n",
    "for l in lengths:\n",
    "    footers = df['html'].apply(lambda r: r[-l:] if len(str(r)) > l else r)\n",
    "    n_footers_copyright.append(sum(footers.apply(lambda r: len(re.findall('copyright ', str(r))) > 0)))\n",
    "    n_footers_c.append(sum(footers.apply(lambda r: len(re.findall('\\(c\\)', str(r))) > 0)))"
   ]
  },
  {
   "cell_type": "code",
   "execution_count": 4,
   "metadata": {},
   "outputs": [
    {
     "name": "stdout",
     "output_type": "stream",
     "text": [
      "Total number of pages containing 'copyright' in HTML: 455 (43% of pages)\n",
      "Total number of pages containing '(c)' in HTML: 791 (75% of pages)\n"
     ]
    }
   ],
   "source": [
    "total_n_copyright = sum(df['html'].apply(lambda r: len(re.findall('copyright', str(r))) > 0))\n",
    "total_n_c = sum(df['html'].apply(lambda r: len(re.findall('\\(c\\)', str(r))) > 0))\n",
    "total_n_c_symbol = sum(df['html'].apply(lambda r: len(re.findall('©', str(r))) > 0))\n",
    "print('Total number of pages containing \\'copyright\\' in HTML: %d (%d%% of pages)' % (\n",
    "    total_n_copyright, total_n_copyright / len(df) * 100))\n",
    "print('Total number of pages containing \\'(c)\\' in HTML: %d (%d%% of pages)' % (\n",
    "    total_n_c, total_n_c / len(df) * 100))"
   ]
  },
  {
   "cell_type": "code",
   "execution_count": 5,
   "metadata": {},
   "outputs": [
    {
     "data": {
      "image/png": "[encoded data removed]",
      "text/plain": [
       "<Figure size 864x288 with 2 Axes>"
      ]
     },
     "metadata": {
      "needs_background": "light"
     },
     "output_type": "display_data"
    }
   ],
   "source": [
    "fig, ax = plt.subplots(1, 2, figsize=(12, 4))\n",
    "\n",
    "ax[0].bar(lengths, [x * 100 / total_n_copyright for x in n_footers_copyright], width=200)\n",
    "ax[0].set_xlabel('footer length')\n",
    "ax[0].set_ylabel('% of pages identified')\n",
    "ax[0].set_yticks(range(0, 100, 5))\n",
    "ax[0].grid(True, axis='y')\n",
    "ax[0].set_title('Identifying footers containing \\'copyright\\'')\n",
    "\n",
    "ax[1].bar(lengths, [x * 100 / total_n_c for x in n_footers_c], width=200)\n",
    "ax[1].set_xlabel('footer length')\n",
    "ax[1].set_ylabel('% of pages identified')\n",
    "ax[1].set_yticks(range(0, 100, 5))\n",
    "ax[1].grid(True, axis='y')\n",
    "ax[1].set_title('Identifying footers containing \\'(c)\\'')\n",
    "\n",
    "plt.show()"
   ]
  },
  {
   "cell_type": "markdown",
   "metadata": {},
   "source": [
    "We suppose that it is likely that the word 'copyright' appears in pages outside of the footer more commonly than '©' does.\n",
    "\n",
    "Thus, we assume that the two right plots are more appropriate for being able to identify the approximate upper limit for the length of a footer in terms of characters. We identify over 90% of pages that contain '(c)' already at footer length 1500. At this length we identify almost 80% of pages that contain 'copyright'. Thus, we choose to define an **upper limit for footer length to be 1500 characters**, where approximately 90% of pages containing '(c)' are identified, and 80% of pages containing 'copyright' are identified."
   ]
  },
  {
   "cell_type": "code",
   "execution_count": 6,
   "metadata": {},
   "outputs": [],
   "source": [
    "df = get_footer_features(df)"
   ]
  },
  {
   "cell_type": "markdown",
   "metadata": {},
   "source": [
    "### Example footers:"
   ]
  },
  {
   "cell_type": "code",
   "execution_count": 7,
   "metadata": {},
   "outputs": [
    {
     "name": "stdout",
     "output_type": "stream",
     "text": [
      "copyright 2018 nasoneb, inc. | all rights reserved  \n",
      "the nasoneb nasal nebulizer is a registered trademark  \n",
      "pulmicort respules is a trademark of astrazeneca  \n",
      "the nasoneb system is protected under us patent 8,146,587, 8,162,921,\n",
      "8,925,544, 9,402,947, 9,440,020 & other patents pending.  \n",
      "home | why nasoneb works | using nasoneb | where to purchase | resources | in\n",
      "the news | testimonials  \n",
      "about nasoneb, inc. | policies | terms of use | contact us  \n",
      "  \n",
      "\n",
      "www.nasoneb.com website design by lonzo designs  \n",
      "#nasoneb #nasonebnasalnebulizer #chronicsinusitis #sinusitus #rhinitis\n",
      "#nasalirrigation #nasalnebulizer #nasonebsystem  \n",
      "#sinusinfection #allergicfungalrhinosinusitis #nasalpolyps #lymedisease\n",
      "#rhinosinusitis #allergicrhinitis #nasalallergies\n",
      "\n",
      "\n",
      "\n",
      "  \n",
      " \n",
      "------------\n",
      "copyright (c) 2009  2015 datastick systems, inc. patents pending, patent\n",
      "awarded 7,580,695. datastick is a registered trademark, and vsa, datastick\n",
      "reporting system, drs, directzoom, impact factor, datastick inspect, inspect\n",
      "routemaker, peaking, sharpener, siteconnex, spectrum, vsa, daart, trulow,\n",
      "dataformer, dataform-it, datastick-it, and datastick connection, are\n",
      "trademarks of datastick systems, inc. other trademarks are owned by their\n",
      "respective companies. - enfold wordpress theme by kriesi\n",
      "\n",
      "scroll to top\n",
      "\n",
      " \n",
      "------------\n",
      "(c)2017 nutrition 21, llc. all rights reserved. nitrosigine, velositol, chromax,\n",
      "zinmax, selenopure and their associated logos are registered trademarks of\n",
      "nutrition 21, llc.\n",
      "\n",
      " \n",
      "------------\n"
     ]
    }
   ],
   "source": [
    "for s in df.footer[40:43]:\n",
    "    print(s, '\\n------------')"
   ]
  },
  {
   "cell_type": "markdown",
   "metadata": {},
   "source": [
    "We observe examples of extracted footers. These seem quite plausible."
   ]
  },
  {
   "cell_type": "code",
   "execution_count": 8,
   "metadata": {},
   "outputs": [],
   "source": [
    "df['footer_len'] = df.footer.apply(len)"
   ]
  },
  {
   "cell_type": "code",
   "execution_count": 9,
   "metadata": {},
   "outputs": [],
   "source": [
    "cat_count_d = dict(df.groupby('cat').footer.count())\n",
    "df.loc[:, 'cat_count'] = df.cat.apply(lambda r: cat_count_d[r])"
   ]
  },
  {
   "cell_type": "code",
   "execution_count": 10,
   "metadata": {},
   "outputs": [
    {
     "data": {
      "image/png": "[encoded data removed]",
      "text/plain": [
       "<Figure size 1152x288 with 3 Axes>"
      ]
     },
     "metadata": {
      "needs_background": "light"
     },
     "output_type": "display_data"
    }
   ],
   "source": [
    "fig, ax = plt.subplots(1, 3, figsize=(16, 4))\n",
    "\n",
    "df.loc[df['cat'] == 'svpm', 'footer_len'].hist(bins=40, ax=ax[0], log=True)\n",
    "ax[0].set_xlabel('footer length')\n",
    "ax[0].set_ylabel('number of pages')\n",
    "ax[0].set_title('SVPM footer length distribution')\n",
    "\n",
    "df.loc[df['cat'] == 'hvpm', 'footer_len'].hist(bins=40, ax=ax[1], log=True)\n",
    "ax[1].set_xlabel('footer length')\n",
    "ax[1].set_ylabel('number of pages')\n",
    "ax[1].set_title('HVPM footer length distribution')\n",
    "\n",
    "df.loc[df['cat'] == 'nvpm', 'footer_len'].hist(bins=40, ax=ax[2], log=True)\n",
    "ax[2].set_xlabel('footer length')\n",
    "ax[2].set_ylabel('number of pages')\n",
    "ax[2].set_title('NVPM footer length distribution')\n",
    "\n",
    "plt.show()"
   ]
  },
  {
   "cell_type": "code",
   "execution_count": 11,
   "metadata": {},
   "outputs": [
    {
     "data": {
      "text/plain": [
       "cat\n",
       "hvpm    0.285024\n",
       "nvpm    0.393855\n",
       "svpm    0.278008\n",
       "Name: footer, dtype: float64"
      ]
     },
     "execution_count": 11,
     "metadata": {},
     "output_type": "execute_result"
    }
   ],
   "source": [
    "df.loc[df['footer_len'] == 0].groupby('cat').footer.count() / df.groupby('cat').footer.count()"
   ]
  },
  {
   "cell_type": "markdown",
   "metadata": {},
   "source": [
    "No significant difference: around 30%-40% of all pages have no identifiable footers, consistently across categories."
   ]
  },
  {
   "cell_type": "markdown",
   "metadata": {},
   "source": [
    "### When does footer start?"
   ]
  },
  {
   "cell_type": "code",
   "execution_count": 12,
   "metadata": {},
   "outputs": [],
   "source": [
    "df['footer_percentage'] = df.apply(lambda r: (len(r.html) - len(r.footer)) / len(r.html), axis=1)"
   ]
  },
  {
   "cell_type": "code",
   "execution_count": 13,
   "metadata": {},
   "outputs": [
    {
     "data": {
      "image/png": "[encoded data removed]",
      "text/plain": [
       "<Figure size 1152x288 with 3 Axes>"
      ]
     },
     "metadata": {
      "needs_background": "light"
     },
     "output_type": "display_data"
    }
   ],
   "source": [
    "fig, ax = plt.subplots(1, 3, figsize=(16, 4))\n",
    "\n",
    "df.loc[df['cat'] == 'svpm', 'footer_percentage'].hist(bins=40, ax=ax[0], log=True)\n",
    "ax[0].set_xlabel('footer at % of page')\n",
    "ax[0].set_ylabel('number of pages')\n",
    "ax[0].set_title('SVPM footer page location distribution')\n",
    "\n",
    "df.loc[df['cat'] == 'hvpm', 'footer_percentage'].hist(bins=40, ax=ax[1], log=True)\n",
    "ax[1].set_xlabel('footer at % of page')\n",
    "ax[1].set_ylabel('number of pages')\n",
    "ax[1].set_title('HVPM footer page location distribution')\n",
    "\n",
    "df.loc[df['cat'] == 'nvpm', 'footer_percentage'].hist(bins=40, ax=ax[2], log=True)\n",
    "ax[2].set_xlabel('footer at % of page')\n",
    "ax[2].set_ylabel('number of pages')\n",
    "ax[2].set_title('NVPM footer page location distribution')\n",
    "\n",
    "plt.show()"
   ]
  },
  {
   "cell_type": "markdown",
   "metadata": {},
   "source": [
    "We observe that there is the most variance as to where the footer starts in SVPM pages, and the least in NVPM pages."
   ]
  }
 ],
 "metadata": {
  "kernelspec": {
   "display_name": "Python 3",
   "language": "python",
   "name": "python3"
  },
  "language_info": {
   "codemirror_mode": {
    "name": "ipython",
    "version": 3
   },
   "file_extension": ".py",
   "mimetype": "text/x-python",
   "name": "python",
   "nbconvert_exporter": "python",
   "pygments_lexer": "ipython3",
   "version": "3.7.7"
  }
 },
 "nbformat": 4,
 "nbformat_minor": 4
}
